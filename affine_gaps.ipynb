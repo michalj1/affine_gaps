{
  "nbformat": 4,
  "nbformat_minor": 0,
  "metadata": {
    "colab": {
      "provenance": []
    },
    "kernelspec": {
      "name": "python3",
      "display_name": "Python 3"
    },
    "language_info": {
      "name": "python"
    }
  },
  "cells": [
    {
      "cell_type": "code",
      "source": [
        "import numpy as np"
      ],
      "metadata": {
        "id": "ebcU897EO7Kj"
      },
      "execution_count": 1,
      "outputs": []
    },
    {
      "cell_type": "markdown",
      "source": [
        "Define alphabet and scoring function"
      ],
      "metadata": {
        "id": "1FA85BmkWyVO"
      }
    },
    {
      "cell_type": "code",
      "source": [
        "keys = ['A', 'C', 'T', 'G', '-']\n",
        "rho = -10   # open gap penalty\n",
        "delta = {}  # match/mismatch costs\n",
        "for i in range(len(keys)):\n",
        "    delta[keys[i]] = {k : v for (k,v) in zip(keys, [1 if keys[i] == keys[j]  else -1 for j in range(len(keys))])}\n",
        "costs = (rho, delta)"
      ],
      "metadata": {
        "id": "q-ZBWW9MQltj"
      },
      "execution_count": 2,
      "outputs": []
    },
    {
      "cell_type": "markdown",
      "source": [
        "Define variations on the algorithm"
      ],
      "metadata": {
        "id": "SpiLqI-TXFXJ"
      }
    },
    {
      "cell_type": "code",
      "source": [
        "styles = [\"global\", \"fitting\", \"local\"]"
      ],
      "metadata": {
        "id": "l3AIvYJPWxie"
      },
      "execution_count": 3,
      "outputs": []
    },
    {
      "cell_type": "markdown",
      "source": [
        "Define backpointers"
      ],
      "metadata": {
        "id": "2ax3oWIIjpJU"
      }
    },
    {
      "cell_type": "code",
      "source": [
        "OPEN_UP = (-1, -1, 0)\n",
        "EXTEND_UP = (0, -1, 0)\n",
        "CLOSE_UP = (1, 0, 0)\n",
        "OPEN_LEFT = (1, 0, -1)\n",
        "EXTEND_LEFT = (0, 0, -1)\n",
        "CLOSE_LEFT = (-1, 0, 0)\n",
        "DIAG = (0, -1, -1)\n",
        "ORIGIN = (0, 0, 0)"
      ],
      "metadata": {
        "id": "3bexEW6djrUo"
      },
      "execution_count": 4,
      "outputs": []
    },
    {
      "cell_type": "code",
      "execution_count": 5,
      "metadata": {
        "id": "lHa0v_S5-u3z"
      },
      "outputs": [],
      "source": [
        "def traceback(v, w, i, j, pointers):\n",
        "  k = 1 # current table\n",
        "  new_v = []\n",
        "  new_w = []\n",
        "  while True:\n",
        "    dk, di, dj = pointers[k, i, j]\n",
        "    if (dk, di, dj) == ORIGIN or (i <= 0 and j <= 0):\n",
        "      # End of backtrace\n",
        "      break\n",
        "\n",
        "    if k == 1:\n",
        "      if (dk, di, dj) == DIAG:\n",
        "        # Match or mismatch\n",
        "        new_v.append(v[i-1])\n",
        "        new_w.append(w[j-1])\n",
        "      # Nothing to be done to close gaps\n",
        "    elif k == 0:\n",
        "      # Insert gap\n",
        "      new_v.append('-')\n",
        "      new_w.append(w[j-1])\n",
        "    elif k == 2:\n",
        "      # Insert gap\n",
        "      new_v.append(v[i-1])\n",
        "      new_w.append('-')\n",
        "\n",
        "    # Update current table and indices\n",
        "    k, i, j = k + dk, i + di, j + dj\n",
        "  return ''.join(new_v[::-1])+'\\n'+''.join(new_w[::-1])\n",
        "\n",
        "\"Helper function which updates the horizontal gap DP table\"\n",
        "def calculate_horizontal_gap(M, pointers, i, j, rho, sigma):\n",
        "  # Calculate score of horizontal gap\n",
        "  le_score = M[0][i][j - 1] + sigma\n",
        "  lo_score = M[1][i][j - 1] + sigma + rho\n",
        "\n",
        "  # Determine whether this is a gap opening or extension and update table\n",
        "  if le_score > lo_score:\n",
        "    # Prefer extension over opening if equal\n",
        "    M[0, i, j] = le_score\n",
        "    pointers[0, i, j] = EXTEND_LEFT\n",
        "  else:\n",
        "    M[0, i, j] = lo_score\n",
        "    pointers[0, i, j] = OPEN_LEFT\n",
        "\n",
        "\"Helper function which updates the vertical gap DP table\"\n",
        "def calculate_vertical_gap(M, pointers, i, j, rho, sigma):\n",
        "  # Calculate scores of vertical gap\n",
        "  ue_score = M[2][i - 1][j] + sigma\n",
        "  uo_score = M[1][i - 1][j] + sigma + rho\n",
        "\n",
        "  # Determine whether this is a gap opening or extension and update table\n",
        "  if ue_score > uo_score:\n",
        "    # Prefer extension over opening if equal\n",
        "    M[2, i, j] = ue_score\n",
        "    pointers[2, i, j] = EXTEND_UP\n",
        "  else:\n",
        "    M[2, i, j] = uo_score\n",
        "    pointers[2, i, j] = OPEN_UP\n",
        "\n",
        "\"Helper function which updates the match/mismatch DP table\"\n",
        "def calculate_match_mismatch(M, pointers, i, j, v, w, delta):\n",
        "  # Calculate match/mismatch score and update tables\n",
        "  d_score = M[1, i - 1, j - 1] + delta[v[i - 1]][w[j - 1]]\n",
        "  M[1, i, j] = d_score\n",
        "  pointers[1, i, j] = DIAG\n",
        "\n",
        "\"Main function, returns the best score and alignment of the two strings\"\n",
        "def align(v, w, costs, style=\"global\"):\n",
        "  score, alignment = None, None\n",
        "  rho, delta = costs\n",
        "\n",
        "  # DP tables, with layer 0 = horizontal, 1 = match, 2 = vertical\n",
        "  M = np.array([[[-np.inf for j in range(len(w)+1)] for i in range(len(v)+1)] for k in range(3)])\n",
        "  pointers = np.array([[[ORIGIN for j in range(len(w)+1)] for i in range(len(v)+1)] for k in range(3)])\n",
        "\n",
        "  for i in range(len(v) + 1):\n",
        "    for j in range(len(w) + 1):\n",
        "      if i == 0 and j == 0:\n",
        "        match style:\n",
        "          case \"global\":\n",
        "            # Origin has zero score in match table, but not others\n",
        "            M[1, 0, 0] = 0\n",
        "            pointers[1, 0, 0] = ORIGIN\n",
        "          case \"fitting\":\n",
        "            # Allows initial gaps in first word but not second\n",
        "            M[:2, 0, 0] = 0\n",
        "            pointers[:2, 0, 0] = ORIGIN\n",
        "          case \"local\":\n",
        "            # Allows initial gaps in both words\n",
        "            M[:, 0, 0] = 0\n",
        "            pointers[:, 0, 0] = ORIGIN\n",
        "      else: # Not origin\n",
        "        # Update transitions in all tables\n",
        "        if j > 0:\n",
        "          calculate_horizontal_gap(M, pointers, i, j, rho, delta['-'][w[j - 1]])\n",
        "        if i > 0:\n",
        "          calculate_vertical_gap(M, pointers, i, j, rho, delta[v[i - 1]]['-'])\n",
        "        if i > 0 and j > 0:\n",
        "          calculate_match_mismatch(M, pointers, i, j, v, w, delta)\n",
        "\n",
        "        # Determine whether or not to close any gaps\n",
        "        if M[2, i, j] > M[1, i, j] and M[2, i, j] > M[0, i, j]:\n",
        "          M[1, i, j] = M[2, i, j]\n",
        "          pointers[1, i, j] = CLOSE_UP\n",
        "        elif M[0, i, j] > M[1, i, j]:\n",
        "          M[1, i, j] = M[0, i, j]\n",
        "          pointers[1, i, j] = CLOSE_LEFT\n",
        "\n",
        "        # Additional starting points for other alignments\n",
        "        if i == 0 and style == \"fitting\" and M[1, i, j] < 0:\n",
        "          M[:2, i, j] = 0\n",
        "          pointers[:2, i, j] = ORIGIN\n",
        "        if style == \"local\" and M[1, i, j] < 0:\n",
        "          M[:, i, j] = 0\n",
        "          pointers[:, i, j] = ORIGIN\n",
        "\n",
        "  # Determine score and backtrace depending on type of alignment\n",
        "  match style:\n",
        "    case \"global\":\n",
        "      score = M[1, -1, -1]\n",
        "      alignment = traceback(v, w, len(v), len(w), pointers)\n",
        "    case \"fitting\":\n",
        "      score = np.max(M[1, -1, :])\n",
        "      alignment = traceback(v, w, len(v), np.argmax(M[1, -1, :]), pointers)\n",
        "    case \"local\":\n",
        "      max_idx = np.argmax(M[1])\n",
        "      x = max_idx // (len(w) + 1)\n",
        "      y = max_idx % (len(w) + 1)\n",
        "      score = M[1, x, y]\n",
        "      alignment = traceback(v, w, x, y, pointers)\n",
        "    case _:\n",
        "      raise ValueError(\"Not a supported alignment type\")\n",
        "\n",
        "  return score, alignment"
      ]
    },
    {
      "cell_type": "code",
      "source": [
        "score, alignment = align(\"AATTAAGGAACC\", \"ATAGAC\", costs)\n",
        "print(alignment)\n",
        "print(score)"
      ],
      "metadata": {
        "colab": {
          "base_uri": "https://localhost:8080/"
        },
        "id": "EpDRKwZdOy-N",
        "outputId": "8803d746-e199-4c44-d66e-d7a324c622ae"
      },
      "execution_count": 6,
      "outputs": [
        {
          "output_type": "stream",
          "name": "stdout",
          "text": [
            "AATTAAGGAACC\n",
            "A------TAGAC\n",
            "-16.0\n"
          ]
        }
      ]
    },
    {
      "cell_type": "code",
      "source": [
        "f_score, f_align = align(\"CGCGCG\", \"AATTAATTCCGGCCGGCCGGAATTAATT\", costs, \"fitting\")\n",
        "print(f_align)\n",
        "print(f_score)"
      ],
      "metadata": {
        "colab": {
          "base_uri": "https://localhost:8080/"
        },
        "id": "fP_pFA-sO_PU",
        "outputId": "d9dfdefb-d93c-49e7-edb9-2c920a67c674"
      },
      "execution_count": 16,
      "outputs": [
        {
          "output_type": "stream",
          "name": "stdout",
          "text": [
            "CGCGCG\n",
            "CGGCCG\n",
            "2.0\n"
          ]
        }
      ]
    },
    {
      "cell_type": "code",
      "source": [
        "l_score, l_align = align(\"AAAGGCCCGGCGGGAAA\", \"TTTTTTGGCCCGGCCGGGTTTTTTT\", costs, \"local\")\n",
        "print(l_align)\n",
        "print(l_score)"
      ],
      "metadata": {
        "colab": {
          "base_uri": "https://localhost:8080/"
        },
        "id": "0rFydMkiTt0J",
        "outputId": "21ae319e-5c72-487a-cb08-21c6c2a1f258"
      },
      "execution_count": 15,
      "outputs": [
        {
          "output_type": "stream",
          "name": "stdout",
          "text": [
            "GGCCCGGCGGG\n",
            "GGCCCGGCCGG\n",
            "9.0\n"
          ]
        }
      ]
    },
    {
      "cell_type": "markdown",
      "source": [
        "#Run code on real alphabet"
      ],
      "metadata": {
        "id": "nsVsPsUdco8R"
      }
    },
    {
      "cell_type": "code",
      "source": [
        "!wget -c 'https://drive.google.com/uc?export=download&id=1LZDSe3BIVN8nS68WsoS1k_kicTdeq1uF' -O data.zip\n",
        "!unzip -o data.zip"
      ],
      "metadata": {
        "colab": {
          "base_uri": "https://localhost:8080/"
        },
        "id": "ffFq4k03coS7",
        "outputId": "d1964e44-c268-41b4-e882-752e237b8118"
      },
      "execution_count": 17,
      "outputs": [
        {
          "output_type": "stream",
          "name": "stdout",
          "text": [
            "--2024-12-20 23:42:17--  https://drive.google.com/uc?export=download&id=1LZDSe3BIVN8nS68WsoS1k_kicTdeq1uF\n",
            "Resolving drive.google.com (drive.google.com)... 172.253.63.139, 172.253.63.102, 172.253.63.138, ...\n",
            "Connecting to drive.google.com (drive.google.com)|172.253.63.139|:443... connected.\n",
            "HTTP request sent, awaiting response... 303 See Other\n",
            "Location: https://drive.usercontent.google.com/download?id=1LZDSe3BIVN8nS68WsoS1k_kicTdeq1uF&export=download [following]\n",
            "--2024-12-20 23:42:18--  https://drive.usercontent.google.com/download?id=1LZDSe3BIVN8nS68WsoS1k_kicTdeq1uF&export=download\n",
            "Resolving drive.usercontent.google.com (drive.usercontent.google.com)... 142.251.179.132, 2607:f8b0:4004:c1f::84\n",
            "Connecting to drive.usercontent.google.com (drive.usercontent.google.com)|142.251.179.132|:443... connected.\n",
            "HTTP request sent, awaiting response... 200 OK\n",
            "Length: 146529 (143K) [application/octet-stream]\n",
            "Saving to: ‘data.zip’\n",
            "\n",
            "data.zip            100%[===================>] 143.09K  --.-KB/s    in 0.02s   \n",
            "\n",
            "2024-12-20 23:42:20 (6.20 MB/s) - ‘data.zip’ saved [146529/146529]\n",
            "\n",
            "Archive:  data.zip\n",
            "  inflating: BLOSUM62.txt            \n",
            "  inflating: Q2b_reference.txt       \n"
          ]
        }
      ]
    },
    {
      "cell_type": "code",
      "source": [
        "def read_blosum62(path):\n",
        "    \"\"\"\n",
        "    Reads in the ncbi's BLOSUM62.txt file and loads the scoring matrix\n",
        "    into a dictionary.\n",
        "\n",
        "    :param: path is the full path in the local filesystem at which the .txt file is located\n",
        "    :return: a dictionary of dictionaries which will hold the cost of various amino acid\n",
        "    substitutions as defined in BLOSUM62.\n",
        "    \"\"\"\n",
        "    delta = {}\n",
        "    with open(path, 'r') as f:\n",
        "        lines = f.readlines()[6:]\n",
        "        keys = lines[0].split()\n",
        "        keys[-1] = '-'\n",
        "        for i, line in enumerate(lines[1:]):\n",
        "            delta[keys[i]] = {k : int(v) for (k,v) in zip(keys, line.split()[1:])}\n",
        "    return delta\n",
        "\n",
        "blosum = read_blosum62('./BLOSUM62.txt')\n",
        "b_costs = (rho, blosum)"
      ],
      "metadata": {
        "id": "7ge7TvlIV8sn"
      },
      "execution_count": 18,
      "outputs": []
    },
    {
      "cell_type": "markdown",
      "source": [
        "No gaps gives the same score"
      ],
      "metadata": {
        "id": "3-_Xi2QKeA3K"
      }
    },
    {
      "cell_type": "code",
      "source": [
        "human_a = 'GIVEQCCTSICSLYQLENYCN'\n",
        "bovine_a = 'GIVEQCCASVCSLYQLENYCN'\n",
        "\n",
        "scoreA, alignmentA = align(human_a, bovine_a, b_costs)\n",
        "print(alignmentA)\n",
        "print(scoreA)\n",
        "print(\"vs\")\n",
        "scoreAc, alignmentAc = align(human_a, bovine_a, (0, blosum))\n",
        "print(alignmentAc)\n",
        "print(scoreAc)"
      ],
      "metadata": {
        "colab": {
          "base_uri": "https://localhost:8080/"
        },
        "id": "MytnnSyxdBTf",
        "outputId": "df32ff39-9b99-48b6-f8c5-9ff72d93a4b3"
      },
      "execution_count": 19,
      "outputs": [
        {
          "output_type": "stream",
          "name": "stdout",
          "text": [
            "GIVEQCCTSICSLYQLENYCN\n",
            "GIVEQCCASVCSLYQLENYCN\n",
            "115.0\n",
            "vs\n",
            "GIVEQCCTSICSLYQLENYCN\n",
            "GIVEQCCASVCSLYQLENYCN\n",
            "115.0\n"
          ]
        }
      ]
    },
    {
      "cell_type": "code",
      "source": [
        "human_b = 'FVNQHLCGSHLVEALYLVCGERGFFYTPKT'\n",
        "bovine_b = 'FVNQHLCGSHLVEALYLVCGERGFFYTPKA'\n",
        "\n",
        "scoreB, alignmentB = align(human_b, bovine_b, b_costs)\n",
        "print(alignmentB)\n",
        "print(scoreB)\n",
        "print(\"vs\")\n",
        "scoreBc, alignmentBc = align(human_b, bovine_b, (0, blosum))\n",
        "print(alignmentBc)\n",
        "print(scoreBc)"
      ],
      "metadata": {
        "colab": {
          "base_uri": "https://localhost:8080/"
        },
        "id": "ccfJIhgxdlXN",
        "outputId": "e8eece5b-edc2-453f-f4a9-9cedb8476a88"
      },
      "execution_count": 20,
      "outputs": [
        {
          "output_type": "stream",
          "name": "stdout",
          "text": [
            "FVNQHLCGSHLVEALYLVCGERGFFYTPKT\n",
            "FVNQHLCGSHLVEALYLVCGERGFFYTPKA\n",
            "163.0\n",
            "vs\n",
            "FVNQHLCGSHLVEALYLVCGERGFFYTPKT\n",
            "FVNQHLCGSHLVEALYLVCGERGFFYTPKA\n",
            "163.0\n"
          ]
        }
      ]
    },
    {
      "cell_type": "markdown",
      "source": [
        "For gene with splicing [chr11:5246500-5248500 (reverse strand), from CS 466 Lecture Notes]"
      ],
      "metadata": {
        "id": "Mz7HwimjfZbK"
      }
    },
    {
      "cell_type": "code",
      "source": [
        "full = \"ATGGTGCATCTGACTCCTGAGGAGAAGTCTGCCGTTACTGCCCTGT\\\n",
        "GGGGCAAGGTGAACGTGGATGAAGTTGGTGGTGAGGCCCTGGGCAGGTTGGTATCAAGGTTACAAGACAGGTTTAAGGAGACCAATAGAAACTGGGCA\\\n",
        "TGTGGAGACAGAGAAGACTCTTGGGTTTCTGATAGGCACTGACTCTCTCTGCCTATTGGTCTATTTTCCCACCCTTAGGCTGCTGGTGGTCTACCCTT\\\n",
        "GGACCCAGAGGTTCTTTGAGTCCTTTGGGGATCTGTCCACTCCTGATGCTGTTATGGGCAACCCTAAGGTGAAGGCTCATGGCAAGAAAGTGCTCGGT\\\n",
        "GCCTTTAGTGATGGCCTGGCTCACCTGGACAACCTCAAGGGCACCTTTGCCACACTGAGTGAGCTGCACTGTGACAAGCTGCACGTGGATCCTGAGAA\\\n",
        "CTTCAGGGTGAGTCTATGGGACGCTTGATGTTTTCTTTCCCCTTCTTTTCTATGGTTAAGTTCATGTCATAGGAAGGGGATAAGTAACAGGGTACAGT\\\n",
        "TTAGAATGGGAAACAGACGAATGATTGCATCAGTGTGGAAGTCTCAGGATCGTTTTAGTTTCTTTTATTTGCTGTTCATAACAATTGTTTTCTTTTGT\\\n",
        "TTAATTCTTGCTTTCTTTTTTTTTCTTCTCCGCAATTTTTACTATTATACTTAATGCCTTAACATTGTGTATAACAAAAGGAAATATCTCTGAGATAC\\\n",
        "ATTAAGTAACTTAAAAAAAAACTTTACACAGTCTGCCTAGTACATTACTATTTGGAATATATGTGTGCTTATTTGCATATTCATAATCTCCCTACTTT\\\n",
        "ATTTTCTTTTATTTTTAATTGATACATAATCATTATACATATTTATGGGTTAAAGTGTAATGTTTTAATATGTGTACACATATTGACCAAATCAGGGT\\\n",
        "AATTTTGCATTTGTAATTTTAAAAAATGCTTTCTTCTTTTAATATACTTTTTTGTTTATCTTATTTCTAATACTTTCCCTAATCTCTTTCTTTCAGGG\\\n",
        "CAATAATGATACAATGTATCATGCCTCTTTGCACCATTCTAAAGAATAACAGTGATAATTTCTGGGTTAAGGCAATAGCAATATCTCTGCATATAAAT\\\n",
        "ATTTCTGCATATAAATTGTAACTGATGTAAGAGGTTTCATATTGCTAATAGCAGCTACAATCCAGCTACCATTCTGCTTTTATTTTATGGTTGGGATA\\\n",
        "AGGCTGGATTATTCTGAGTCCAAGCTAGGCCCTTTTGCTAATCATGTTCATACCTCTTATCTTCCTCCCACAGCTCCTGGGCAACGTGCTGGTCTGTG\\\n",
        "TGCTGGCCCATCACTTTGGCAAAGAATTCACCCCACCAGTGCAGGCTGCCTATCAGAAAGTGGTGGCTGGTGTGGCTAATGCCCTGGCCCACAAGTAT\\\n",
        "CACTAA\"\n",
        "spliced = \"ATGGTGCATCTGACTCCTGAGGAGAAGTCTGCCGTTACTGCCCTGT\\\n",
        "GGGGCAAGGTGAACGTGGATGAAGTTGGTGGTGAGGCCCTGGGCAG\\\n",
        "GCTGCTGGTGGTCTACCCTT\\\n",
        "GGACCCAGAGGTTCTTTGAGTCCTTTGGGGATCTGTCCACTCCTGATGCTGTTATGGGCAACCCTAAGGTGAAGGCTCATGGCAAGAAAGTGCTCGGT\\\n",
        "GCCTTTAGTGATGGCCTGGCTCACCTGGACAACCTCAAGGGCACCTTTGCCACACTGAGTGAGCTGCACTGTGACAAGCTGCACGTGGATCCTGAGAA\\\n",
        "CTTCAGG\\\n",
        "CTCCTGGGCAACGTGCTGGTCTGTG\\\n",
        "TGCTGGCCCATCACTTTGGCAAAGAATTCACCCCACCAGTGCAGGCTGCCTATCAGAAAGTGGTGGCTGGTGTGGCTAATGCCCTGGCCCACAAGTAT\\\n",
        "CACTAA\""
      ],
      "metadata": {
        "id": "VMc_VnWpd6rx"
      },
      "execution_count": 21,
      "outputs": []
    },
    {
      "cell_type": "code",
      "source": [
        "real_score, real_align = align(spliced, full, costs)\n",
        "print(real_align)\n",
        "print(real_score)\n",
        "print(\"vs\")\n",
        "real_score_c, real_align_c = align(spliced, full, (0, delta))\n",
        "print(real_align_c)\n",
        "print(real_score_c)"
      ],
      "metadata": {
        "colab": {
          "base_uri": "https://localhost:8080/"
        },
        "id": "YttCLMN1gV6p",
        "outputId": "c068cce9-8ca9-402e-e771-99f1635ba337"
      },
      "execution_count": 23,
      "outputs": [
        {
          "output_type": "stream",
          "name": "stdout",
          "text": [
            "ATGGTGCATCTGACTCCTGAGGAGAAGTCTGCCGTTACTGCCCTGTGGGGCAAGGTGAACGTGGATGAAGTTGGTGGTGAGGCCCTGGGC----------------------------------------------------------------------------------------------------------------------------------AGGCTGCTGGTGGTCTACCCTTGGACCCAGAGGTTCTTTGAGTCCTTTGGGGATCTGTCCACTCCTGATGCTGTTATGGGCAACCCTAAGGTGAAGGCTCATGGCAAGAAAGTGCTCGGTGCCTTTAGTGATGGCCTGGCTCACCTGGACAACCTCAAGGGCACCTTTGCCACACTGAGTGAGCTGCACTGTGACAAGCTGCACGTGGATCCTGAGAACTTCAG----------------------------------------------------------------------------------------------------------------------------------------------------------------------------------------------------------------------------------------------------------------------------------------------------------------------------------------------------------------------------------------------------------------------------------------------------------------------------------------------------------------------------------------------------------------------------------------------------------------------------------------------------------------------------------------------------------------------------------------------------------------------------------------------------------------------------------------------------------------------------------GCTCCTGGGCAACGTGCTGGTCTGTGTGCTGGCCCATCACTTTGGCAAAGAATTCACCCCACCAGTGCAGGCTGCCTATCAGAAAGTGGTGGCTGGTGTGGCTAATGCCCTGGCCCACAAGTATCACTAA\n",
            "ATGGTGCATCTGACTCCTGAGGAGAAGTCTGCCGTTACTGCCCTGTGGGGCAAGGTGAACGTGGATGAAGTTGGTGGTGAGGCCCTGGGCAGGTTGGTATCAAGGTTACAAGACAGGTTTAAGGAGACCAATAGAAACTGGGCATGTGGAGACAGAGAAGACTCTTGGGTTTCTGATAGGCACTGACTCTCTCTGCCTATTGGTCTATTTTCCCACCCTTAGGCTGCTGGTGGTCTACCCTTGGACCCAGAGGTTCTTTGAGTCCTTTGGGGATCTGTCCACTCCTGATGCTGTTATGGGCAACCCTAAGGTGAAGGCTCATGGCAAGAAAGTGCTCGGTGCCTTTAGTGATGGCCTGGCTCACCTGGACAACCTCAAGGGCACCTTTGCCACACTGAGTGAGCTGCACTGTGACAAGCTGCACGTGGATCCTGAGAACTTCAGGGTGAGTCTATGGGACGCTTGATGTTTTCTTTCCCCTTCTTTTCTATGGTTAAGTTCATGTCATAGGAAGGGGATAAGTAACAGGGTACAGTTTAGAATGGGAAACAGACGAATGATTGCATCAGTGTGGAAGTCTCAGGATCGTTTTAGTTTCTTTTATTTGCTGTTCATAACAATTGTTTTCTTTTGTTTAATTCTTGCTTTCTTTTTTTTTCTTCTCCGCAATTTTTACTATTATACTTAATGCCTTAACATTGTGTATAACAAAAGGAAATATCTCTGAGATACATTAAGTAACTTAAAAAAAAACTTTACACAGTCTGCCTAGTACATTACTATTTGGAATATATGTGTGCTTATTTGCATATTCATAATCTCCCTACTTTATTTTCTTTTATTTTTAATTGATACATAATCATTATACATATTTATGGGTTAAAGTGTAATGTTTTAATATGTGTACACATATTGACCAAATCAGGGTAATTTTGCATTTGTAATTTTAAAAAATGCTTTCTTCTTTTAATATACTTTTTTGTTTATCTTATTTCTAATACTTTCCCTAATCTCTTTCTTTCAGGGCAATAATGATACAATGTATCATGCCTCTTTGCACCATTCTAAAGAATAACAGTGATAATTTCTGGGTTAAGGCAATAGCAATATCTCTGCATATAAATATTTCTGCATATAAATTGTAACTGATGTAAGAGGTTTCATATTGCTAATAGCAGCTACAATCCAGCTACCATTCTGCTTTTATTTTATGGTTGGGATAAGGCTGGATTATTCTGAGTCCAAGCTAGGCCCTTTTGCTAATCATGTTCATACCTCTTATCTTCCTCCCACAGCTCCTGGGCAACGTGCTGGTCTGTGTGCTGGCCCATCACTTTGGCAAAGAATTCACCCCACCAGTGCAGGCTGCCTATCAGAAAGTGGTGGCTGGTGTGGCTAATGCCCTGGCCCACAAGTATCACTAA\n",
            "-556.0\n",
            "vs\n",
            "ATGGTGCATCTGACTCCTGAGGAGAA-------G-T-CTG-CC-GT---------T--AC-----------------T---GCCCT------G-TGG------GG---C---A-AGG--T---GA-A-C----G----T-GG-A--T---------GAAG----TT--G-----G-T--G----G--------TG---A--GG--------------C-----C--C---T-G---------GG---C--AGG--C--T--G--C--T--GG---TG---------G-T-C-----T-----A-CC-----------CT--T-G---G--A-----C----CC---A--GA------GG------T--------T---------C--T-------T---TGAG-T-C-C--T-------T-----TGG-----G-G-A--TC----T--G----T----C-C---A---------------------C-----------TC----C-T--------GAT--G---C----T---G-TT---AT-----------G---G---G---C-------AA--C-C-----C----TA---------A------G------------G--------TG---AA---------------------------G-----------------------G-C-T--CA-TG-G-----C--AA-G--A-A------AG------T--G---------------C--T---C-G---G--T-G--C----C----T----T-TA---GTG---A--TG-------------------------------------------G---------C------C--------------------------------TG-G----C----T---C--A-C------------C---TG--------------G-----------------AC----------A----A---C-----C--T--C--A------------A--G-------G-------G---CA---C-CTTTG---C---C---------AC-------A---CT--G---A-G---T-G----A-----G-------------CTGC------------AC---TGT-----G------A---C----A--AG---C--T---G----CA-----C------------G-T-GGAT----C---------CTGAG----A---A----------CT--TCA-G--------------------------GCTCCTGGGCAACGTGCTGGTCTGTGTGCTGGCCCATCACTTTGGCAAAGAATTCACCCCACCAGTGCAGGCTGCCTATCAGAAAGTGGTGGCTGGTGTGGCTAATGCCCTGGCCCACAAGTATCACTAA\n",
            "ATGGTGCATCTGACTCCTGAGGAGAAGTCTGCCGTTACTGCCCTGTGGGGCAAGGTGAACGTGGATGAAGTTGGTGGTGAGGCCCTGGGCAGGTTGGTATCAAGGTTACAAGACAGGTTTAAGGAGACCAATAGAAACTGGGCATGTGGAGACAGAGAAGACTCTTGGGTTTCTGATAGGCACTGACTCTCTCTGCCTATTGGTCTATTTTCCCACCCTTAGGCTGCTGGTGGTCTACCCTTGGACCCAGAGGTTCTTTGAGTCCTTTGGGGATCTGTCCACTCCTGATGCTGTTATGGGCAACCCTAAGGTGAAGGCTCATGGCAAGAAAGTGCTCGGTGCCTTTAGTGATGGCCTGGCTCACCTGGACAACCTCAAGGGCACCTTTGCCACACTGAGTGAGCTGCACTGTGACAAGCTGCACGTGGATCCTGAGAACTTCAGGGTGAGTCTATGGGACGCTTGATGTTTTCTTTCCCCTTCTTTTCTATGGTTAAGTTCATGTCATAGGAAGGGGATAAGTAACAGGGTACAGTTTAGAATGGGAAACAGACGAATGATTGCATCAGTGTGGAAGTCTCAGGATCGTTTTAGTTTCTTTTATTTGCTGTTCATAACAATTGTTTTCTTTTGTTTAATTCTTGCTTTCTTTTTTTTTCTTCTCCGCAATTTTTACTATTATACTTAATGCCTTAACATTGTGTATAACAAAAGGAAATATCTCTGAGATACATTAAGTAACTTAAAAAAAAACTTTACACAGTCTGCCTAGTACATTACTATTTGGAATATATGTGTGCTTATTTGCATATTCATAATCTCCCTACTTTATTTTCTTTTATTTTTAATTGATACATAATCATTATACATATTTATGGGTTAAAGTGTAATGTTTTAATATGTGTACACATATTGACCAAATCAGGGTAATTTTGCATTTGTAATTTTAAAAAATGCTTTCTTCTTTTAATATACTTTTTTGTTTATCTTATTTCTAATACTTTCCCTAATCTCTTTCTTTCAGGGCAATAATGATACAATGTATCATGCCTCTTTGCACCATTCTAAAGAATAACAGTGATAATTTCTGGGTTAAGGCAATAGCAATATCTCTGCATATAAATATTTCTGCATATAAATTGTAACTGATGTAAGAGGTTTCATATTGCTAATAGCAGCTACAATCCAGCTACCATTCTGCTTTTATTTTATGGTTGGGATAAGGCTGGATTATTCTGAGTCCAAGCTAGGCCCTTTTGCTAATCATGTTCATACCTCTTATCTTCCTCCCACAGCTCCTGGGCAACGTGCTGGTCTGTGTGCTGGCCCATCACTTTGGCAAAGAATTCACCCCACCAGTGCAGGCTGCCTATCAGAAAGTGGTGGCTGGTGTGGCTAATGCCCTGGCCCACAAGTATCACTAA\n",
            "-536.0\n"
          ]
        }
      ]
    },
    {
      "cell_type": "markdown",
      "source": [
        "Affine gap penalty correctly aligns spliced section, while standard Needleman-Wunsch adds many random small gaps in the alignment."
      ],
      "metadata": {
        "id": "AoZR5-brg2zl"
      }
    }
  ]
}